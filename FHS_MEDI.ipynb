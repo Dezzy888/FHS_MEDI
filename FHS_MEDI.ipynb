{
 "cells": [
  {
   "cell_type": "markdown",
   "id": "3b77cdee-53f7-4998-8e65-de7e43d9e781",
   "metadata": {},
   "source": [
    "# Tree-Based Models for Mortality Prediction in FHS"
   ]
  },
  {
   "cell_type": "markdown",
   "id": "2ae09d71-be59-4533-94ee-7f81c644b665",
   "metadata": {},
   "source": [
    "## Setup"
   ]
  },
  {
   "cell_type": "markdown",
   "id": "3eb4afb0-4c66-4fc1-8265-5e4825a0f6ef",
   "metadata": {},
   "source": [
    "### Importing libraries"
   ]
  },
  {
   "cell_type": "code",
   "execution_count": 1,
   "id": "9f7a66b5-9af3-4da0-8451-21d3fe2179ad",
   "metadata": {},
   "outputs": [],
   "source": [
    "from sklearn.model_selection import GridSearchCV\n",
    "from sklearn.ensemble import RandomForestClassifier\n",
    "from sklearn import preprocessing\n",
    "from sklearn.model_selection import train_test_split\n",
    "from sklearn.metrics import classification_report\n",
    "from sklearn.metrics import roc_auc_score, roc_curve, confusion_matrix, ConfusionMatrixDisplay\n",
    "import xgboost as xgb\n",
    "import matplotlib.pyplot as plt\n",
    "import seaborn as sns\n",
    "import pandas as pd\n",
    "import numpy as np"
   ]
  },
  {
   "cell_type": "markdown",
   "id": "98560dab-6df4-41a2-8c2a-de8059e7fc01",
   "metadata": {},
   "source": [
    "### Importing Data + Preprocessing"
   ]
  },
  {
   "cell_type": "code",
   "execution_count": 3,
   "id": "c2ccc279-2771-4eae-bfe0-c49ea08595b7",
   "metadata": {},
   "outputs": [
    {
     "data": {
      "text/html": [
       "<div>\n",
       "<style scoped>\n",
       "    .dataframe tbody tr th:only-of-type {\n",
       "        vertical-align: middle;\n",
       "    }\n",
       "\n",
       "    .dataframe tbody tr th {\n",
       "        vertical-align: top;\n",
       "    }\n",
       "\n",
       "    .dataframe thead th {\n",
       "        text-align: right;\n",
       "    }\n",
       "</style>\n",
       "<table border=\"1\" class=\"dataframe\">\n",
       "  <thead>\n",
       "    <tr style=\"text-align: right;\">\n",
       "      <th></th>\n",
       "      <th>AGE</th>\n",
       "      <th>SEX</th>\n",
       "      <th>SYSBP</th>\n",
       "      <th>DIABP</th>\n",
       "      <th>CURSMOKE</th>\n",
       "      <th>CIGPDAY</th>\n",
       "      <th>HEARTRTE</th>\n",
       "      <th>educ</th>\n",
       "      <th>PREVCHD</th>\n",
       "      <th>PREVAP</th>\n",
       "      <th>...</th>\n",
       "      <th>HOSPMI</th>\n",
       "      <th>MI_FCHD</th>\n",
       "      <th>STROKE</th>\n",
       "      <th>CVD</th>\n",
       "      <th>ANYCHD</th>\n",
       "      <th>HYPERTEN</th>\n",
       "      <th>BMI</th>\n",
       "      <th>DIABETES</th>\n",
       "      <th>DEATH</th>\n",
       "      <th>label</th>\n",
       "    </tr>\n",
       "  </thead>\n",
       "  <tbody>\n",
       "    <tr>\n",
       "      <th>0</th>\n",
       "      <td>52</td>\n",
       "      <td>1</td>\n",
       "      <td>121.0</td>\n",
       "      <td>66.0</td>\n",
       "      <td>0</td>\n",
       "      <td>0</td>\n",
       "      <td>69</td>\n",
       "      <td>4</td>\n",
       "      <td>0</td>\n",
       "      <td>0</td>\n",
       "      <td>...</td>\n",
       "      <td>1</td>\n",
       "      <td>1</td>\n",
       "      <td>0</td>\n",
       "      <td>1</td>\n",
       "      <td>1</td>\n",
       "      <td>0</td>\n",
       "      <td>24.85</td>\n",
       "      <td>0</td>\n",
       "      <td>0</td>\n",
       "      <td>test</td>\n",
       "    </tr>\n",
       "    <tr>\n",
       "      <th>1</th>\n",
       "      <td>58</td>\n",
       "      <td>2</td>\n",
       "      <td>108.0</td>\n",
       "      <td>66.0</td>\n",
       "      <td>0</td>\n",
       "      <td>0</td>\n",
       "      <td>80</td>\n",
       "      <td>2</td>\n",
       "      <td>0</td>\n",
       "      <td>0</td>\n",
       "      <td>...</td>\n",
       "      <td>0</td>\n",
       "      <td>0</td>\n",
       "      <td>0</td>\n",
       "      <td>0</td>\n",
       "      <td>0</td>\n",
       "      <td>0</td>\n",
       "      <td>28.50</td>\n",
       "      <td>0</td>\n",
       "      <td>0</td>\n",
       "      <td>test</td>\n",
       "    </tr>\n",
       "    <tr>\n",
       "      <th>2</th>\n",
       "      <td>54</td>\n",
       "      <td>1</td>\n",
       "      <td>141.0</td>\n",
       "      <td>89.0</td>\n",
       "      <td>1</td>\n",
       "      <td>30</td>\n",
       "      <td>75</td>\n",
       "      <td>1</td>\n",
       "      <td>0</td>\n",
       "      <td>0</td>\n",
       "      <td>...</td>\n",
       "      <td>0</td>\n",
       "      <td>0</td>\n",
       "      <td>0</td>\n",
       "      <td>0</td>\n",
       "      <td>0</td>\n",
       "      <td>0</td>\n",
       "      <td>25.34</td>\n",
       "      <td>0</td>\n",
       "      <td>0</td>\n",
       "      <td>train</td>\n",
       "    </tr>\n",
       "    <tr>\n",
       "      <th>3</th>\n",
       "      <td>67</td>\n",
       "      <td>2</td>\n",
       "      <td>183.0</td>\n",
       "      <td>109.0</td>\n",
       "      <td>1</td>\n",
       "      <td>20</td>\n",
       "      <td>60</td>\n",
       "      <td>3</td>\n",
       "      <td>0</td>\n",
       "      <td>0</td>\n",
       "      <td>...</td>\n",
       "      <td>0</td>\n",
       "      <td>0</td>\n",
       "      <td>1</td>\n",
       "      <td>1</td>\n",
       "      <td>0</td>\n",
       "      <td>1</td>\n",
       "      <td>30.18</td>\n",
       "      <td>0</td>\n",
       "      <td>1</td>\n",
       "      <td>test</td>\n",
       "    </tr>\n",
       "    <tr>\n",
       "      <th>4</th>\n",
       "      <td>58</td>\n",
       "      <td>2</td>\n",
       "      <td>155.0</td>\n",
       "      <td>90.0</td>\n",
       "      <td>1</td>\n",
       "      <td>30</td>\n",
       "      <td>74</td>\n",
       "      <td>3</td>\n",
       "      <td>0</td>\n",
       "      <td>0</td>\n",
       "      <td>...</td>\n",
       "      <td>0</td>\n",
       "      <td>0</td>\n",
       "      <td>0</td>\n",
       "      <td>0</td>\n",
       "      <td>0</td>\n",
       "      <td>1</td>\n",
       "      <td>24.61</td>\n",
       "      <td>0</td>\n",
       "      <td>0</td>\n",
       "      <td>train</td>\n",
       "    </tr>\n",
       "  </tbody>\n",
       "</table>\n",
       "<p>5 rows × 24 columns</p>\n",
       "</div>"
      ],
      "text/plain": [
       "   AGE  SEX  SYSBP  DIABP  CURSMOKE  CIGPDAY  HEARTRTE  educ  PREVCHD  PREVAP  \\\n",
       "0   52    1  121.0   66.0         0        0        69     4        0       0   \n",
       "1   58    2  108.0   66.0         0        0        80     2        0       0   \n",
       "2   54    1  141.0   89.0         1       30        75     1        0       0   \n",
       "3   67    2  183.0  109.0         1       20        60     3        0       0   \n",
       "4   58    2  155.0   90.0         1       30        74     3        0       0   \n",
       "\n",
       "   ...  HOSPMI  MI_FCHD  STROKE  CVD  ANYCHD  HYPERTEN    BMI  DIABETES  \\\n",
       "0  ...       1        1       0    1       1         0  24.85         0   \n",
       "1  ...       0        0       0    0       0         0  28.50         0   \n",
       "2  ...       0        0       0    0       0         0  25.34         0   \n",
       "3  ...       0        0       1    1       0         1  30.18         0   \n",
       "4  ...       0        0       0    0       0         1  24.61         0   \n",
       "\n",
       "   DEATH  label  \n",
       "0      0   test  \n",
       "1      0   test  \n",
       "2      0  train  \n",
       "3      1   test  \n",
       "4      0  train  \n",
       "\n",
       "[5 rows x 24 columns]"
      ]
     },
     "execution_count": 3,
     "metadata": {},
     "output_type": "execute_result"
    }
   ],
   "source": [
    "df = pd.read_csv(r'C:\\Users\\danie\\Desktop\\CICOM\\FHS_medi\\fhs_imp1_pyth.csv')\n",
    "df.head()"
   ]
  },
  {
   "cell_type": "code",
   "execution_count": 5,
   "id": "03c56617-e3a5-4387-b358-e6ab03c3cc87",
   "metadata": {},
   "outputs": [],
   "source": [
    "df = pd.read_csv(r'C:\\Users\\danie\\Desktop\\CICOM\\FHS_medi\\fhs_imp1_pyth.csv')\n",
    "\n",
    "# pre-processing: Converted certain variables to factors\n",
    "categorical_vars = ['SEX', 'PREVCHD', 'PREVAP', 'PREVMI', 'PREVSTRK', 'PREVHYP', 'ANGINA',\n",
    "       'HOSPMI', 'MI_FCHD', 'STROKE', 'CVD', 'ANYCHD', 'HYPERTEN',\n",
    "       'DIABETES', 'DEATH']\n",
    "for col in categorical_vars:\n",
    "    df[col] = df[col].astype('category')\n",
    "\n",
    "# pre-processing: Robust Scaler -  more robust to outliers\n",
    "scaler = preprocessing.RobustScaler()\n",
    "numeric_cols = df.select_dtypes(include=['number']).columns\n",
    "df[numeric_cols] = scaler.fit_transform(df[numeric_cols])\n",
    "\n",
    "# Train-Test Split (80/20)\n",
    "trains = df[df['label'] == 'train']\n",
    "tests = df[df['label'] == 'test']\n",
    "\n",
    "# splitting predictor and label\n",
    "X_train = trains.drop(['DEATH', 'label'], axis=1)\n",
    "y_train = trains['DEATH']\n",
    "X_test = tests.drop(['DEATH', 'label'], axis=1)\n",
    "y_test = tests['DEATH']"
   ]
  },
  {
   "cell_type": "markdown",
   "id": "41ae8d40-b6ef-48ab-ba6e-5a2733129bbc",
   "metadata": {},
   "source": [
    "## Random Forest"
   ]
  },
  {
   "cell_type": "markdown",
   "id": "41070a88-fe70-45aa-9abe-ea368139550d",
   "metadata": {},
   "source": [
    "#### Optimizing using Grid Search CV\n",
    "\n",
    "Paper for setting the grid: https://ieeexplore.ieee.org/abstract/document/8947569?casa_token=mzR6aCijVwUAAAAA:HFgC7dvVYAOLHI4Rkx2-nxKIE0TaNZAakjeARGKuXVrGwELLyupr3ebdDxyUXjgRx-F0aXsnMxk\n",
    "\n",
    "- recommends number of trees between 20 to 100, and increasing to 150 for datasets with more than 500k observations\n",
    "- number of features should be between between 2 and 0.7*maxFeatures\n",
    "- tree depth should be between 2 to 0.7*maxFeatures\n",
    "- the minimum number of objects in each leaf should be from 1 to 50\n",
    "- But these datsets were very large, though they had imbalanced case/outcome, like in our dataset"
   ]
  },
  {
   "cell_type": "code",
   "execution_count": null,
   "id": "09ab1e22-cf7d-4927-93ca-d4b3af134e75",
   "metadata": {},
   "outputs": [],
   "source": [
    "param_grid = {\n",
    "    'n_estimators': [x for x in range(20,110,10)],\n",
    "    'max_features' : [x for x in range(2,round(0.7*len(X_train.columns))+1)],\n",
    "    'max_depth': [x for x in range(2,round(0.7*len(X_train.columns))+1)],\n",
    "    'criterion': ['gini', 'entropy'] # omit log loss because it is too sensitive to imbalance\n",
    "}\n",
    "\n",
    "grid_search = GridSearchCV(RandomForestClassifier(), param_grid=param_grid, cv=5)\n",
    "grid_search.fit(X_train, y_train)\n",
    "\n",
    "print(\"Best Parameters:\", grid_search.best_params_)\n",
    "print(\"Best Estimator:\", grid_search.best_estimator_)"
   ]
  },
  {
   "cell_type": "markdown",
   "id": "de0cde92-8744-4c16-ab61-00f0f6c99752",
   "metadata": {},
   "source": [
    "#### Testing the optimized model"
   ]
  },
  {
   "cell_type": "code",
   "execution_count": 106,
   "id": "4cc920b8-19d2-4d80-9580-1d82395d6978",
   "metadata": {},
   "outputs": [
    {
     "name": "stdout",
     "output_type": "stream",
     "text": [
      "              precision    recall  f1-score   support\n",
      "\n",
      "           0       0.88      0.78      0.82       646\n",
      "           1       0.54      0.70      0.61       240\n",
      "\n",
      "    accuracy                           0.76       886\n",
      "   macro avg       0.71      0.74      0.72       886\n",
      "weighted avg       0.78      0.76      0.77       886\n",
      "\n"
     ]
    }
   ],
   "source": [
    "model_grid = RandomForestClassifier(max_depth=20,\n",
    "                                    max_features=\"sqrt\",\n",
    "                                    n_estimators=200,\n",
    "                                    criterion='entropy')\n",
    "model_grid.fit(X_train, y_train)\n",
    "y_pred_grid = model_grid.predict(X_test)\n",
    "print(classification_report(y_pred_grid, y_test))"
   ]
  },
  {
   "cell_type": "markdown",
   "id": "f3e99aac-a9ce-4b8a-8af1-953043b0f770",
   "metadata": {},
   "source": [
    "#### Model Metrics on the Test Dataset"
   ]
  },
  {
   "cell_type": "code",
   "execution_count": 108,
   "id": "6f0aabb0-13cd-4be5-9e94-a8eff36fa79c",
   "metadata": {},
   "outputs": [
    {
     "data": {
      "image/png": "[encoded data removed]",
      "text/plain": [
       "<Figure size 640x480 with 2 Axes>"
      ]
     },
     "metadata": {},
     "output_type": "display_data"
    },
    {
     "name": "stdout",
     "output_type": "stream",
     "text": [
      "Model Metrics\n",
      "AUC:  78.97\n",
      "Accuracy:  76.52\n",
      "Sensitivity:  60.65\n",
      "Specificity:  85.07\n",
      "Precision:  68.61\n",
      "Negative Predictive Value:  80.07\n"
     ]
    }
   ],
   "source": [
    "y_pred_probs = model_grid.predict_proba(X_test)[:,1]\n",
    "auc_score = roc_auc_score(y_test, y_pred_probs)\n",
    "\n",
    "# finding the best threshold\n",
    "fpr, tpr, thresholds = roc_curve(y_test, y_pred_probs)\n",
    "best_index = np.argmax(tpr - fpr) \n",
    "best_threshold = thresholds[best_index]\n",
    "\n",
    "# outputting confusion matrix\n",
    "y_preds_optim = y_pred_probs >= best_threshold\n",
    "y_preds_optim = y_preds_optim.astype(int)\n",
    "cm_rf = confusion_matrix(y_test, y_preds_optim)\n",
    "\n",
    "disp = ConfusionMatrixDisplay(confusion_matrix=cm_rf, display_labels=[\"Class 0\", \"Class 1\"]) # Adjust labels as needed\n",
    "disp.plot()\n",
    "plt.title(\"Confusion Matrix\")\n",
    "plt.show()\n",
    "\n",
    "# outputting the model assessment metrics\n",
    "print('Model Metrics')\n",
    "tn, fp, fn, tp = confusion_matrix(y_test, y_preds_optim).ravel()\n",
    "specificity = tn / (tn+fp)\n",
    "sensitivity = tp / (tp + fn)\n",
    "precision = tp / (fp + tp)\n",
    "neg_pred_value = tn / (fn + tn)\n",
    "acc  = (tp + tn) / (tn + fp + fn + tp)\n",
    "\n",
    "print('AUC: ', round(auc_score*100,2))\n",
    "print('Accuracy: ', round(acc*100,2))\n",
    "print('Sensitivity: ', round(sensitivity*100,2))\n",
    "print('Specificity: ', round(specificity*100,2))\n",
    "print('Precision: ', round(precision*100,2))\n",
    "print('Negative Predictive Value: ', round(neg_pred_value*100,2))"
   ]
  },
  {
   "cell_type": "markdown",
   "id": "94e48b3d-922f-4066-951c-34f17d37b9c7",
   "metadata": {},
   "source": [
    "## Xgboost"
   ]
  },
  {
   "cell_type": "code",
   "execution_count": null,
   "id": "16dc26b0-5ae0-40a0-a7f5-e2d26f7d46fe",
   "metadata": {},
   "outputs": [],
   "source": []
  }
 ],
 "metadata": {
  "kernelspec": {
   "display_name": "Python [conda env:base] *",
   "language": "python",
   "name": "conda-base-py"
  },
  "language_info": {
   "codemirror_mode": {
    "name": "ipython",
    "version": 3
   },
   "file_extension": ".py",
   "mimetype": "text/x-python",
   "name": "python",
   "nbconvert_exporter": "python",
   "pygments_lexer": "ipython3",
   "version": "3.12.7"
  }
 },
 "nbformat": 4,
 "nbformat_minor": 5
}
